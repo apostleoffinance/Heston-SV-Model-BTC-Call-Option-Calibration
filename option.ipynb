{
 "cells": [
  {
   "cell_type": "code",
   "execution_count": 13,
   "metadata": {},
   "outputs": [
    {
     "name": "stdout",
     "output_type": "stream",
     "text": [
      "                               symbol_id                 time_exchange                  time_coinapi  strike_price  ask_price  ask_size  bid_price  bid_size  underlying_price               time_expiration\n",
      "0    DERIBIT_OPT_BTC_USD_250425_104000_C  2025-02-03T17:20:35.4024035Z  2025-02-03T17:20:35.4024302Z      104000.0     0.0950      22.1     0.0935       1.3      98717.420348  2025-04-25T08:00:00.0000000Z\n",
      "1    DERIBIT_OPT_BTC_USD_250425_170000_C  2025-02-03T17:20:28.2097876Z  2025-02-03T17:20:28.2098043Z      170000.0     0.0090      28.1     0.0080      52.9      98717.420348  2025-04-25T08:00:00.0000000Z\n",
      "2    DERIBIT_OPT_BTC_USD_250425_116000_C  2025-02-03T17:20:29.7027605Z  2025-02-03T17:20:29.7027779Z      116000.0     0.0580       1.4     0.0570      15.3      98717.420348  2025-04-25T08:00:00.0000000Z\n",
      "3    DERIBIT_OPT_BTC_USD_250425_175000_C  2025-02-03T17:20:22.4903184Z  2025-02-03T17:20:22.4903292Z      175000.0     0.0080      46.7     0.0070      21.8      98717.420348  2025-04-25T08:00:00.0000000Z\n",
      "4    DERIBIT_OPT_BTC_USD_250425_118000_C  2025-02-03T17:20:35.3719754Z  2025-02-03T17:20:35.3719927Z      118000.0     0.0535       7.3     0.0525      13.0      98717.420348  2025-04-25T08:00:00.0000000Z\n",
      "..                                   ...                           ...                           ...           ...        ...       ...        ...       ...               ...                           ...\n",
      "396  DERIBIT_OPT_BTC_USD_250206_114000_C  2025-02-03T17:14:05.5641934Z  2025-02-03T17:14:05.5642499Z      114000.0     0.0004       0.9     0.0001      12.9      98717.420348  2025-02-06T08:00:00.0000000Z\n",
      "397  DERIBIT_OPT_BTC_USD_250206_106000_C  2025-02-03T17:20:23.2536877Z  2025-02-03T17:20:23.2537033Z      106000.0     0.0022       1.6     0.0020      10.1      98717.420348  2025-02-06T08:00:00.0000000Z\n",
      "398  DERIBIT_OPT_BTC_USD_250206_102000_C  2025-02-03T17:20:35.2600184Z  2025-02-03T17:20:35.2600330Z      102000.0     0.0085      59.0     0.0075       8.0      98717.420348  2025-02-06T08:00:00.0000000Z\n",
      "399  DERIBIT_OPT_BTC_USD_250206_112000_C  2025-02-03T17:20:26.8387768Z  2025-02-03T17:20:26.8388080Z      112000.0     0.0005       0.4     0.0002      65.8      98717.420348  2025-02-06T08:00:00.0000000Z\n",
      "400  DERIBIT_OPT_BTC_USD_250206_108000_C  2025-02-03T17:20:35.2558529Z  2025-02-03T17:20:35.2558637Z      108000.0     0.0014      17.9     0.0011       8.0      98717.420348  2025-02-06T08:00:00.0000000Z\n",
      "\n",
      "[401 rows x 10 columns]\n"
     ]
    }
   ],
   "source": [
    "import os\n",
    "import requests\n",
    "import pandas as pd\n",
    "from dotenv import load_dotenv\n",
    "import json\n",
    "\n",
    "# Load API key from .env file\n",
    "load_dotenv()\n",
    "coinapi_key = os.getenv('api_key')\n",
    "\n",
    "exchange_id = \"DERIBIT\"\n",
    "\n",
    "# CoinAPI endpoint for symbols metadata\n",
    "url = f\"https://rest.coinapi.io/v1/options/{exchange_id}/current\"\n",
    "\n",
    "#payload = {}\n",
    "headers = {\n",
    "  'Accept': 'text/plain',\n",
    "  'X-CoinAPI-Key': coinapi_key\n",
    "}\n",
    "\n",
    "#response = requests.request(\"GET\", url, headers=headers, data=payload)\n",
    "response = requests.request(\"GET\", url, headers=headers)\n",
    "\n",
    "#print(response.text)\n",
    "\n",
    "# Check for successful response\n",
    "if response.status_code == 200:\n",
    "    data = response.json()\n",
    "    \n",
    "    # Filter for BTC/USD call options\n",
    "    filtered_calls = []\n",
    "    for option in data:\n",
    "        if option.get(\"asset_id_base\") == \"BTC\" and option.get(\"asset_id_quote\") == \"USD\":\n",
    "            underlying_price = option.get(\"underlying_price\")\n",
    "            time_expiration = option.get(\"time_expiration\")\n",
    "\n",
    "            for strike in option.get(\"strikes\", []):\n",
    "                if \"call\" in strike:\n",
    "                    call_data = {\n",
    "                        \"symbol_id\": strike[\"call\"][\"symbol_id\"],\n",
    "                        \"time_exchange\": strike[\"call\"][\"time_exchange\"],\n",
    "                        \"time_coinapi\": strike[\"call\"][\"time_coinapi\"],\n",
    "                        \"strike_price\": strike[\"strike_price\"],\n",
    "                        \"ask_price\": strike[\"call\"][\"ask_price\"],\n",
    "                        \"ask_size\": strike[\"call\"][\"ask_size\"],\n",
    "                        \"bid_price\": strike[\"call\"][\"bid_price\"],\n",
    "                        \"bid_size\": strike[\"call\"][\"bid_size\"],\n",
    "                        \"underlying_price\": underlying_price,\n",
    "                        \"time_expiration\": time_expiration\n",
    "                    }\n",
    "                    filtered_calls.append(call_data)\n",
    "\n",
    "    # Convert to DataFrame for better visualization\n",
    "    df_calls = pd.DataFrame(filtered_calls)\n",
    "    pd.set_option('display.width', 1000)\n",
    "    pd.set_option('display.max_columns', None)\n",
    "    print(df_calls)\n",
    "\n",
    "else:\n",
    "    print(f\"Error: {response.status_code}, {response.text}\")\n"
   ]
  },
  {
   "cell_type": "code",
   "execution_count": null,
   "metadata": {},
   "outputs": [],
   "source": []
  }
 ],
 "metadata": {
  "kernelspec": {
   "display_name": "coin_api",
   "language": "python",
   "name": "python3"
  },
  "language_info": {
   "codemirror_mode": {
    "name": "ipython",
    "version": 3
   },
   "file_extension": ".py",
   "mimetype": "text/x-python",
   "name": "python",
   "nbconvert_exporter": "python",
   "pygments_lexer": "ipython3",
   "version": "3.12.2"
  }
 },
 "nbformat": 4,
 "nbformat_minor": 2
}
