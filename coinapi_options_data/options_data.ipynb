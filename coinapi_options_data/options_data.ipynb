{
 "cells": [
  {
   "cell_type": "code",
   "execution_count": 7,
   "metadata": {},
   "outputs": [
    {
     "name": "stdout",
     "output_type": "stream",
     "text": [
      "                               symbol_id                 time_exchange                  time_coinapi  strike_price  ask_price  ask_size  bid_price  bid_size  underlying_price               time_expiration\n",
      "0    DERIBIT_OPT_BTC_USD_250425_104000_C  2025-02-04T10:41:32.4584885Z  2025-02-04T10:41:32.4585111Z      104000.0     0.0920       0.8     0.0910       2.3      98660.333262  2025-04-25T08:00:00.0000000Z\n",
      "1    DERIBIT_OPT_BTC_USD_250425_102000_C  2025-02-04T10:41:37.1103509Z  2025-02-04T10:41:37.1103697Z      102000.0     0.1000      10.3     0.0990       1.3      98660.333262  2025-04-25T08:00:00.0000000Z\n",
      "2    DERIBIT_OPT_BTC_USD_250425_115000_C  2025-02-04T10:41:37.0453194Z  2025-02-04T10:41:37.0453519Z      115000.0     0.0580       0.7     0.0570      11.2      98660.333262  2025-04-25T08:00:00.0000000Z\n",
      "3    DERIBIT_OPT_BTC_USD_250425_120000_C  2025-02-04T10:41:31.8114647Z  2025-02-04T10:41:31.8114853Z      120000.0     0.0470       6.6     0.0460      28.9      98660.333262  2025-04-25T08:00:00.0000000Z\n",
      "4     DERIBIT_OPT_BTC_USD_250425_92000_C  2025-02-04T10:41:09.8691310Z  2025-02-04T10:41:09.8691770Z       92000.0     0.1510      15.3     0.1470      16.6      98660.333262  2025-04-25T08:00:00.0000000Z\n",
      "..                                   ...                           ...                           ...           ...        ...       ...        ...       ...               ...                           ...\n",
      "373  DERIBIT_OPT_BTC_USD_250207_114000_C  2025-02-04T10:41:27.8412885Z  2025-02-04T10:41:27.8413019Z      114000.0     0.0003      17.4     0.0002      15.0      98660.333262  2025-02-07T08:00:00.0000000Z\n",
      "374  DERIBIT_OPT_BTC_USD_250207_104000_C  2025-02-04T10:41:43.4041306Z  2025-02-04T10:41:43.4041537Z      104000.0     0.0044       0.5     0.0040      13.0      98660.333262  2025-02-07T08:00:00.0000000Z\n",
      "375  DERIBIT_OPT_BTC_USD_250207_116000_C  2025-02-04T10:16:12.9908657Z  2025-02-04T10:16:12.9908813Z      116000.0     0.0002       0.2     0.0001       0.5      98660.333262  2025-02-07T08:00:00.0000000Z\n",
      "376  DERIBIT_OPT_BTC_USD_250207_106000_C  2025-02-04T10:41:39.5191116Z  2025-02-04T10:41:39.5191677Z      106000.0     0.0024       5.5     0.0020      11.9      98660.333262  2025-02-07T08:00:00.0000000Z\n",
      "377  DERIBIT_OPT_BTC_USD_250207_108000_C  2025-02-04T10:41:39.5198796Z  2025-02-04T10:41:39.5199788Z      108000.0     0.0013      15.5     0.0009      59.2      98660.333262  2025-02-07T08:00:00.0000000Z\n",
      "\n",
      "[378 rows x 10 columns]\n"
     ]
    }
   ],
   "source": [
    "import os\n",
    "import requests\n",
    "import pandas as pd\n",
    "from dotenv import load_dotenv\n",
    "import json\n",
    "from datetime import datetime \n",
    "\n",
    "# Load API key from .env file\n",
    "load_dotenv()\n",
    "coinapi_key = os.getenv('api_key')\n",
    "\n",
    "exchange_id = \"DERIBIT\"\n",
    "\n",
    "# CoinAPI endpoint for symbols metadata\n",
    "url = f\"https://rest.coinapi.io/v1/options/{exchange_id}/current\"\n",
    "\n",
    "#payload = {}\n",
    "headers = {\n",
    "  'Accept': 'text/plain',\n",
    "  'X-CoinAPI-Key': coinapi_key\n",
    "}\n",
    "\n",
    "#response = requests.request(\"GET\", url, headers=headers, data=payload)\n",
    "response = requests.request(\"GET\", url, headers=headers)\n",
    "\n",
    "#print(response.text)\n",
    "\n",
    "# Check for successful response\n",
    "if response.status_code == 200:\n",
    "    data = response.json()\n",
    "    \n",
    "    # Filter for BTC/USD call options\n",
    "    filtered_calls = []\n",
    "    for option in data:\n",
    "        if option.get(\"asset_id_base\") == \"BTC\" and option.get(\"asset_id_quote\") == \"USD\":\n",
    "            underlying_price = option.get(\"underlying_price\")\n",
    "            time_expiration = option.get(\"time_expiration\")\n",
    "\n",
    "            for strike in option.get(\"strikes\", []):\n",
    "                if \"call\" in strike:\n",
    "                    call_data = {\n",
    "                        \"symbol_id\": strike[\"call\"][\"symbol_id\"],\n",
    "                        \"time_exchange\": strike[\"call\"][\"time_exchange\"],\n",
    "                        \"time_coinapi\": strike[\"call\"][\"time_coinapi\"],\n",
    "                        \"strike_price\": strike[\"strike_price\"],\n",
    "                        \"ask_price\": strike[\"call\"][\"ask_price\"],\n",
    "                        \"ask_size\": strike[\"call\"][\"ask_size\"],\n",
    "                        \"bid_price\": strike[\"call\"][\"bid_price\"],\n",
    "                        \"bid_size\": strike[\"call\"][\"bid_size\"],\n",
    "                        \"underlying_price\": underlying_price,\n",
    "                        \"time_expiration\": time_expiration\n",
    "                    }\n",
    "                    filtered_calls.append(call_data)\n",
    "\n",
    "    # Convert to DataFrame for better visualization\n",
    "    df_calls = pd.DataFrame(filtered_calls)\n",
    "    pd.set_option('display.width', 1000)\n",
    "    pd.set_option('display.max_columns', None)\n",
    "    print(df_calls)\n",
    "\n",
    "else:\n",
    "    print(f\"Error: {response.status_code}, {response.text}\")\n"
   ]
  },
  {
   "cell_type": "markdown",
   "metadata": {},
   "source": [
    "# Data Preparation\n",
    "\n",
    "### Calculate \n",
    "### Market Price using ((ask price + bid price) / 2)\n",
    "### Maturity(Years) using time_expiration and time_exchange\n",
    "### Risk-Free Rate is gotten from OpenBB\n"
   ]
  },
  {
   "cell_type": "markdown",
   "metadata": {},
   "source": [
    "### Maturity Years"
   ]
  },
  {
   "cell_type": "code",
   "execution_count": 8,
   "metadata": {},
   "outputs": [
    {
     "data": {
      "text/plain": [
       "0      0.218721\n",
       "1      0.218721\n",
       "2      0.218721\n",
       "3      0.218721\n",
       "4      0.218722\n",
       "         ...   \n",
       "373    0.007907\n",
       "374    0.007906\n",
       "375    0.007955\n",
       "376    0.007906\n",
       "377    0.007906\n",
       "Name: time_to_maturity, Length: 378, dtype: float64"
      ]
     },
     "execution_count": 8,
     "metadata": {},
     "output_type": "execute_result"
    }
   ],
   "source": [
    "df_calls = pd.DataFrame(filtered_calls)\n",
    "\n",
    "#convert time columns to datetime\n",
    "df_calls['time_exchange'] = pd.to_datetime(df_calls['time_exchange'])\n",
    "df_calls['time_expiration'] = pd.to_datetime(df_calls['time_expiration'])\n",
    "\n",
    "#Calculate the maturity in years\n",
    "df_calls['time_to_maturity'] = (df_calls['time_expiration'] - df_calls['time_exchange']).dt.total_seconds() / (365.25 * 24 * 3600)\n",
    "df_calls['time_to_maturity']"
   ]
  },
  {
   "cell_type": "markdown",
   "metadata": {},
   "source": [
    "### Market Price"
   ]
  },
  {
   "cell_type": "code",
   "execution_count": 9,
   "metadata": {},
   "outputs": [
    {
     "data": {
      "text/plain": [
       "0      0.09150\n",
       "1      0.09950\n",
       "2      0.05750\n",
       "3      0.04650\n",
       "4      0.14900\n",
       "        ...   \n",
       "373    0.00025\n",
       "374    0.00420\n",
       "375    0.00015\n",
       "376    0.00220\n",
       "377    0.00110\n",
       "Name: market_price, Length: 378, dtype: float64"
      ]
     },
     "execution_count": 9,
     "metadata": {},
     "output_type": "execute_result"
    }
   ],
   "source": [
    "df_calls['market_price'] = (df_calls['ask_price'] + df_calls['bid_price']) / 2\n",
    "df_calls['market_price']"
   ]
  },
  {
   "cell_type": "code",
   "execution_count": 10,
   "metadata": {},
   "outputs": [],
   "source": [
    "# jupyter notebook\n"
   ]
  },
  {
   "cell_type": "code",
   "execution_count": null,
   "metadata": {},
   "outputs": [],
   "source": [
    "\n",
    "\n",
    "import sys\n",
    "import os\n",
    "\n",
    "parent_dir = os.path.abspath(\"..\")\n",
    "\n",
    "sys.path.append(parent_dir)\n",
    "\n",
    "from treasury_yield.risk_free_rate import risk_free_rate\n",
    "\n",
    "df_calls[\"risk_free_rate\"] = risk_free_rate\n"
   ]
  },
  {
   "cell_type": "code",
   "execution_count": 12,
   "metadata": {},
   "outputs": [
    {
     "name": "stdout",
     "output_type": "stream",
     "text": [
      "     strike_price  time_to_maturity  market_price  underlying_price  risk_free_rate\n",
      "0        104000.0          0.218721       0.09150      98660.333262         0.04543\n",
      "1        102000.0          0.218721       0.09950      98660.333262         0.04543\n",
      "2        115000.0          0.218721       0.05750      98660.333262         0.04543\n",
      "3        120000.0          0.218721       0.04650      98660.333262         0.04543\n",
      "4         92000.0          0.218722       0.14900      98660.333262         0.04543\n",
      "..            ...               ...           ...               ...             ...\n",
      "373      114000.0          0.007907       0.00025      98660.333262         0.04543\n",
      "374      104000.0          0.007906       0.00420      98660.333262         0.04543\n",
      "375      116000.0          0.007955       0.00015      98660.333262         0.04543\n",
      "376      106000.0          0.007906       0.00220      98660.333262         0.04543\n",
      "377      108000.0          0.007906       0.00110      98660.333262         0.04543\n",
      "\n",
      "[378 rows x 5 columns]\n"
     ]
    }
   ],
   "source": [
    "# Selecting relevant columns\n",
    "calibration_data = df_calls[['strike_price', 'time_to_maturity', 'market_price', 'underlying_price', 'risk_free_rate']]\n",
    "\n",
    "print(calibration_data)"
   ]
  },
  {
   "cell_type": "code",
   "execution_count": null,
   "metadata": {},
   "outputs": [],
   "source": []
  }
 ],
 "metadata": {
  "kernelspec": {
   "display_name": "coin_api",
   "language": "python",
   "name": "python3"
  },
  "language_info": {
   "codemirror_mode": {
    "name": "ipython",
    "version": 3
   },
   "file_extension": ".py",
   "mimetype": "text/x-python",
   "name": "python",
   "nbconvert_exporter": "python",
   "pygments_lexer": "ipython3",
   "version": "3.12.2"
  }
 },
 "nbformat": 4,
 "nbformat_minor": 2
}
