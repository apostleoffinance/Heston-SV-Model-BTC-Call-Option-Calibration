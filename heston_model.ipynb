{
 "cells": [
  {
   "cell_type": "code",
   "execution_count": null,
   "metadata": {},
   "outputs": [
    {
     "name": "stdout",
     "output_type": "stream",
     "text": [
      "                               symbol_id                 time_exchange                  time_coinapi  strike_price  ask_price  ask_size  bid_price  bid_size  underlying_price               time_expiration\n",
      "0    DERIBIT_OPT_BTC_USD_250425_104000_C  2025-02-04T08:59:49.0661066Z  2025-02-04T08:59:49.0661250Z      104000.0     0.0910       2.2     0.0875       2.2      98479.653102  2025-04-25T08:00:00.0000000Z\n",
      "1    DERIBIT_OPT_BTC_USD_250425_175000_C  2025-02-04T08:59:50.0697020Z  2025-02-04T08:59:50.0697422Z      175000.0     0.0070       4.6     0.0055       1.0      98479.653102  2025-04-25T08:00:00.0000000Z\n",
      "2    DERIBIT_OPT_BTC_USD_250425_118000_C  2025-02-04T09:00:01.3933261Z  2025-02-04T09:00:01.3933446Z      118000.0     0.0500       6.0     0.0460       6.0      98479.653102  2025-04-25T08:00:00.0000000Z\n",
      "3     DERIBIT_OPT_BTC_USD_250425_92000_C  2025-02-04T08:59:42.7111738Z  2025-02-04T08:59:42.7112037Z       92000.0     0.1495       3.2     0.1440       3.0      98479.653102  2025-04-25T08:00:00.0000000Z\n",
      "4    DERIBIT_OPT_BTC_USD_250425_115000_C  2025-02-04T09:00:01.3975352Z  2025-02-04T09:00:01.3975477Z      115000.0     0.0565       6.0     0.0525       6.0      98479.653102  2025-04-25T08:00:00.0000000Z\n",
      "..                                   ...                           ...                           ...           ...        ...       ...        ...       ...               ...                           ...\n",
      "413  DERIBIT_OPT_BTC_USD_250627_180000_C  2025-02-04T08:59:50.0367609Z  2025-02-04T08:59:50.0367753Z      180000.0     0.0230       0.1     0.0150       0.1      98479.653102  2025-06-27T08:00:00.0000000Z\n",
      "414  DERIBIT_OPT_BTC_USD_250627_115000_C  2025-02-04T09:00:01.7270571Z  2025-02-04T09:00:01.7270749Z      115000.0     0.8100       0.1     0.0800       0.1      98479.653102  2025-06-27T08:00:00.0000000Z\n",
      "415  DERIBIT_OPT_BTC_USD_250627_130000_C  2025-02-04T09:00:01.7282054Z  2025-02-04T09:00:01.7282254Z      130000.0     0.0975       0.1     0.0510       0.1      98479.653102  2025-06-27T08:00:00.0000000Z\n",
      "416  DERIBIT_OPT_BTC_USD_250627_125000_C  2025-02-04T09:00:01.4221880Z  2025-02-04T09:00:01.4221986Z      125000.0     0.0765       6.0     0.0705       6.0      98479.653102  2025-06-27T08:00:00.0000000Z\n",
      "417  DERIBIT_OPT_BTC_USD_250627_190000_C  2025-02-04T08:59:41.8123957Z  2025-02-04T08:59:41.8124165Z      190000.0     0.0165       3.6     0.0140       3.7      98479.653102  2025-06-27T08:00:00.0000000Z\n",
      "\n",
      "[418 rows x 10 columns]\n"
     ]
    }
   ],
   "source": [
    "import os\n",
    "import requests\n",
    "import pandas as pd\n",
    "from dotenv import load_dotenv\n",
    "import json\n",
    "from datetime import datetime \n",
    "\n",
    "# Load API key from .env file\n",
    "load_dotenv()\n",
    "coinapi_key = os.getenv('api_key')\n",
    "\n",
    "exchange_id = \"DERIBIT\"\n",
    "\n",
    "# CoinAPI endpoint for symbols metadata\n",
    "url = f\"https://rest.coinapi.io/v1/options/{exchange_id}/current\"\n",
    "\n",
    "#payload = {}\n",
    "headers = {\n",
    "  'Accept': 'text/plain',\n",
    "  'X-CoinAPI-Key': coinapi_key\n",
    "}\n",
    "\n",
    "#response = requests.request(\"GET\", url, headers=headers, data=payload)\n",
    "response = requests.request(\"GET\", url, headers=headers)\n",
    "\n",
    "#print(response.text)\n",
    "\n",
    "# Check for successful response\n",
    "if response.status_code == 200:\n",
    "    data = response.json()\n",
    "    \n",
    "    # Filter for BTC/USD call options\n",
    "    filtered_calls = []\n",
    "    for option in data:\n",
    "        if option.get(\"asset_id_base\") == \"BTC\" and option.get(\"asset_id_quote\") == \"USD\":\n",
    "            underlying_price = option.get(\"underlying_price\")\n",
    "            time_expiration = option.get(\"time_expiration\")\n",
    "\n",
    "            for strike in option.get(\"strikes\", []):\n",
    "                if \"call\" in strike:\n",
    "                    call_data = {\n",
    "                        \"symbol_id\": strike[\"call\"][\"symbol_id\"],\n",
    "                        \"time_exchange\": strike[\"call\"][\"time_exchange\"],\n",
    "                        \"time_coinapi\": strike[\"call\"][\"time_coinapi\"],\n",
    "                        \"strike_price\": strike[\"strike_price\"],\n",
    "                        \"ask_price\": strike[\"call\"][\"ask_price\"],\n",
    "                        \"ask_size\": strike[\"call\"][\"ask_size\"],\n",
    "                        \"bid_price\": strike[\"call\"][\"bid_price\"],\n",
    "                        \"bid_size\": strike[\"call\"][\"bid_size\"],\n",
    "                        \"underlying_price\": underlying_price,\n",
    "                        \"time_expiration\": time_expiration\n",
    "                    }\n",
    "                    filtered_calls.append(call_data)\n",
    "\n",
    "    # Convert to DataFrame for better visualization\n",
    "    df_calls = pd.DataFrame(filtered_calls)\n",
    "    pd.set_option('display.width', 1000)\n",
    "    pd.set_option('display.max_columns', None)\n",
    "    print(df_calls)\n",
    "\n",
    "else:\n",
    "    print(f\"Error: {response.status_code}, {response.text}\")\n"
   ]
  },
  {
   "cell_type": "markdown",
   "metadata": {},
   "source": [
    "# Data Preparation\n",
    "\n",
    "### Calculate \n",
    "### Market Price using ((ask price + bid price) / 2)\n",
    "### Maturity(Years) using time_expiration and time_exchange\n",
    "### Risk-Free Rate is gotten from OpenBB\n"
   ]
  },
  {
   "cell_type": "markdown",
   "metadata": {},
   "source": [
    "### Maturity Years"
   ]
  },
  {
   "cell_type": "code",
   "execution_count": 3,
   "metadata": {},
   "outputs": [
    {
     "data": {
      "text/plain": [
       "0      0.218914\n",
       "1      0.218914\n",
       "2      0.218914\n",
       "3      0.218915\n",
       "4      0.218914\n",
       "         ...   \n",
       "413    0.391399\n",
       "414    0.391399\n",
       "415    0.391399\n",
       "416    0.391399\n",
       "417    0.391399\n",
       "Name: maturity_years, Length: 418, dtype: float64"
      ]
     },
     "execution_count": 3,
     "metadata": {},
     "output_type": "execute_result"
    }
   ],
   "source": [
    "df_calls = pd.DataFrame(filtered_calls)\n",
    "\n",
    "#convert time columns to datetime\n",
    "df_calls['time_exchange'] = pd.to_datetime(df_calls['time_exchange'])\n",
    "df_calls['time_expiration'] = pd.to_datetime(df_calls['time_expiration'])\n",
    "\n",
    "#Calculate the maturity in years\n",
    "df_calls['maturity_years'] = (df_calls['time_expiration'] - df_calls['time_exchange']).dt.total_seconds() / (365.25 * 24 * 3600)\n",
    "df_calls['maturity_years']"
   ]
  },
  {
   "cell_type": "markdown",
   "metadata": {},
   "source": [
    "### Market Price"
   ]
  },
  {
   "cell_type": "code",
   "execution_count": 4,
   "metadata": {},
   "outputs": [
    {
     "data": {
      "text/plain": [
       "0      0.08925\n",
       "1      0.00625\n",
       "2      0.04800\n",
       "3      0.14675\n",
       "4      0.05450\n",
       "        ...   \n",
       "413    0.01900\n",
       "414    0.44500\n",
       "415    0.07425\n",
       "416    0.07350\n",
       "417    0.01525\n",
       "Name: market_price, Length: 418, dtype: float64"
      ]
     },
     "execution_count": 4,
     "metadata": {},
     "output_type": "execute_result"
    }
   ],
   "source": [
    "df_calls['market_price'] = (df_calls['ask_price'] + df_calls['bid_price']) / 2\n",
    "df_calls['market_price']"
   ]
  },
  {
   "cell_type": "code",
   "execution_count": null,
   "metadata": {},
   "outputs": [],
   "source": []
  }
 ],
 "metadata": {
  "kernelspec": {
   "display_name": "coin_api",
   "language": "python",
   "name": "python3"
  },
  "language_info": {
   "codemirror_mode": {
    "name": "ipython",
    "version": 3
   },
   "file_extension": ".py",
   "mimetype": "text/x-python",
   "name": "python",
   "nbconvert_exporter": "python",
   "pygments_lexer": "ipython3",
   "version": "3.12.2"
  }
 },
 "nbformat": 4,
 "nbformat_minor": 2
}
