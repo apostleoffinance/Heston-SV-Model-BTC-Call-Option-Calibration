{
 "cells": [
  {
   "cell_type": "code",
   "execution_count": 7,
   "metadata": {},
   "outputs": [
    {
     "name": "stdout",
     "output_type": "stream",
     "text": [
      "                               symbol_id                 time_exchange                  time_coinapi  strike_price  ask_price  ask_size  bid_price  bid_size  underlying_price               time_expiration\n",
      "0     DERIBIT_OPT_BTC_USD_250328_85000_C  2025-02-04T10:12:58.9457653Z  2025-02-04T10:12:58.9458057Z       85000.0     0.1775      24.3     0.1735      31.7        98721.6805  2025-03-28T08:00:00.0000000Z\n",
      "1     DERIBIT_OPT_BTC_USD_250328_95000_C  2025-02-04T10:12:51.8410247Z  2025-02-04T10:12:51.8410520Z       95000.0     0.1105      23.0     0.1070      27.3        98721.6805  2025-03-28T08:00:00.0000000Z\n",
      "2     DERIBIT_OPT_BTC_USD_250328_65000_C  2025-02-04T10:11:33.5444068Z  2025-02-04T10:11:33.5444289Z       65000.0     0.3575      30.3     0.3530      30.3        98721.6805  2025-03-28T08:00:00.0000000Z\n",
      "3     DERIBIT_OPT_BTC_USD_250328_75000_C  2025-02-04T10:10:49.4841660Z  2025-02-04T10:10:49.4841859Z       75000.0     0.2630      17.4     0.2580      23.9        98721.6805  2025-03-28T08:00:00.0000000Z\n",
      "4     DERIBIT_OPT_BTC_USD_250328_45000_C  2025-02-04T10:12:19.4129673Z  2025-02-04T10:12:19.4129892Z       45000.0     0.5535      27.2     0.5500      33.2        98721.6805  2025-03-28T08:00:00.0000000Z\n",
      "..                                   ...                           ...                           ...           ...        ...       ...        ...       ...               ...                           ...\n",
      "371  DERIBIT_OPT_BTC_USD_250207_112000_C  2025-02-04T10:12:09.4879526Z  2025-02-04T10:12:09.4879720Z      112000.0     0.0005      14.7     0.0003       6.5        98721.6805  2025-02-07T08:00:00.0000000Z\n",
      "372  DERIBIT_OPT_BTC_USD_250207_102000_C  2025-02-04T10:12:56.6546659Z  2025-02-04T10:12:56.6547231Z      102000.0     0.0085      26.3     0.0075      81.8        98721.6805  2025-02-07T08:00:00.0000000Z\n",
      "373  DERIBIT_OPT_BTC_USD_250207_114000_C  2025-02-04T10:10:54.4698609Z  2025-02-04T10:10:54.4698726Z      114000.0     0.0003       6.0     0.0002      15.0        98721.6805  2025-02-07T08:00:00.0000000Z\n",
      "374  DERIBIT_OPT_BTC_USD_250207_104000_C  2025-02-04T10:12:58.0090712Z  2025-02-04T10:12:58.0090905Z      104000.0     0.0045       1.6     0.0041      14.6        98721.6805  2025-02-07T08:00:00.0000000Z\n",
      "375  DERIBIT_OPT_BTC_USD_250207_108000_C  2025-02-04T10:12:51.7798804Z  2025-02-04T10:12:51.7799198Z      108000.0     0.0013       5.2     0.0010      43.1        98721.6805  2025-02-07T08:00:00.0000000Z\n",
      "\n",
      "[376 rows x 10 columns]\n"
     ]
    }
   ],
   "source": [
    "import os\n",
    "import requests\n",
    "import pandas as pd\n",
    "from dotenv import load_dotenv\n",
    "import json\n",
    "from datetime import datetime \n",
    "\n",
    "# Load API key from .env file\n",
    "load_dotenv()\n",
    "coinapi_key = os.getenv('api_key')\n",
    "\n",
    "exchange_id = \"DERIBIT\"\n",
    "\n",
    "# CoinAPI endpoint for symbols metadata\n",
    "url = f\"https://rest.coinapi.io/v1/options/{exchange_id}/current\"\n",
    "\n",
    "#payload = {}\n",
    "headers = {\n",
    "  'Accept': 'text/plain',\n",
    "  'X-CoinAPI-Key': coinapi_key\n",
    "}\n",
    "\n",
    "#response = requests.request(\"GET\", url, headers=headers, data=payload)\n",
    "response = requests.request(\"GET\", url, headers=headers)\n",
    "\n",
    "#print(response.text)\n",
    "\n",
    "# Check for successful response\n",
    "if response.status_code == 200:\n",
    "    data = response.json()\n",
    "    \n",
    "    # Filter for BTC/USD call options\n",
    "    filtered_calls = []\n",
    "    for option in data:\n",
    "        if option.get(\"asset_id_base\") == \"BTC\" and option.get(\"asset_id_quote\") == \"USD\":\n",
    "            underlying_price = option.get(\"underlying_price\")\n",
    "            time_expiration = option.get(\"time_expiration\")\n",
    "\n",
    "            for strike in option.get(\"strikes\", []):\n",
    "                if \"call\" in strike:\n",
    "                    call_data = {\n",
    "                        \"symbol_id\": strike[\"call\"][\"symbol_id\"],\n",
    "                        \"time_exchange\": strike[\"call\"][\"time_exchange\"],\n",
    "                        \"time_coinapi\": strike[\"call\"][\"time_coinapi\"],\n",
    "                        \"strike_price\": strike[\"strike_price\"],\n",
    "                        \"ask_price\": strike[\"call\"][\"ask_price\"],\n",
    "                        \"ask_size\": strike[\"call\"][\"ask_size\"],\n",
    "                        \"bid_price\": strike[\"call\"][\"bid_price\"],\n",
    "                        \"bid_size\": strike[\"call\"][\"bid_size\"],\n",
    "                        \"underlying_price\": underlying_price,\n",
    "                        \"time_expiration\": time_expiration\n",
    "                    }\n",
    "                    filtered_calls.append(call_data)\n",
    "\n",
    "    # Convert to DataFrame for better visualization\n",
    "    df_calls = pd.DataFrame(filtered_calls)\n",
    "    pd.set_option('display.width', 1000)\n",
    "    pd.set_option('display.max_columns', None)\n",
    "    print(df_calls)\n",
    "\n",
    "else:\n",
    "    print(f\"Error: {response.status_code}, {response.text}\")\n"
   ]
  },
  {
   "cell_type": "markdown",
   "metadata": {},
   "source": [
    "# Data Preparation\n",
    "\n",
    "### Calculate \n",
    "### Market Price using ((ask price + bid price) / 2)\n",
    "### Maturity(Years) using time_expiration and time_exchange\n",
    "### Risk-Free Rate is gotten from OpenBB\n"
   ]
  },
  {
   "cell_type": "markdown",
   "metadata": {},
   "source": [
    "### Maturity Years"
   ]
  },
  {
   "cell_type": "code",
   "execution_count": 8,
   "metadata": {},
   "outputs": [
    {
     "data": {
      "text/plain": [
       "0      0.142115\n",
       "1      0.142116\n",
       "2      0.142118\n",
       "3      0.142120\n",
       "4      0.142117\n",
       "         ...   \n",
       "371    0.007962\n",
       "372    0.007961\n",
       "373    0.007965\n",
       "374    0.007961\n",
       "375    0.007961\n",
       "Name: time_to_maturity, Length: 376, dtype: float64"
      ]
     },
     "execution_count": 8,
     "metadata": {},
     "output_type": "execute_result"
    }
   ],
   "source": [
    "df_calls = pd.DataFrame(filtered_calls)\n",
    "\n",
    "#convert time columns to datetime\n",
    "df_calls['time_exchange'] = pd.to_datetime(df_calls['time_exchange'])\n",
    "df_calls['time_expiration'] = pd.to_datetime(df_calls['time_expiration'])\n",
    "\n",
    "#Calculate the maturity in years\n",
    "df_calls['time_to_maturity'] = (df_calls['time_expiration'] - df_calls['time_exchange']).dt.total_seconds() / (365.25 * 24 * 3600)\n",
    "df_calls['time_to_maturity']"
   ]
  },
  {
   "cell_type": "markdown",
   "metadata": {},
   "source": [
    "### Market Price"
   ]
  },
  {
   "cell_type": "code",
   "execution_count": 9,
   "metadata": {},
   "outputs": [
    {
     "data": {
      "text/plain": [
       "0      0.17550\n",
       "1      0.10875\n",
       "2      0.35525\n",
       "3      0.26050\n",
       "4      0.55175\n",
       "        ...   \n",
       "371    0.00040\n",
       "372    0.00800\n",
       "373    0.00025\n",
       "374    0.00430\n",
       "375    0.00115\n",
       "Name: market_price, Length: 376, dtype: float64"
      ]
     },
     "execution_count": 9,
     "metadata": {},
     "output_type": "execute_result"
    }
   ],
   "source": [
    "df_calls['market_price'] = (df_calls['ask_price'] + df_calls['bid_price']) / 2\n",
    "df_calls['market_price']"
   ]
  },
  {
   "cell_type": "code",
   "execution_count": 10,
   "metadata": {},
   "outputs": [
    {
     "data": {
      "text/plain": [
       "0      0.04543\n",
       "1      0.04543\n",
       "2      0.04543\n",
       "3      0.04543\n",
       "4      0.04543\n",
       "        ...   \n",
       "371    0.04543\n",
       "372    0.04543\n",
       "373    0.04543\n",
       "374    0.04543\n",
       "375    0.04543\n",
       "Name: risk_free_rate, Length: 376, dtype: float64"
      ]
     },
     "execution_count": 10,
     "metadata": {},
     "output_type": "execute_result"
    }
   ],
   "source": [
    "from treasury_yield.risk_free_rate import risk_free_rate\n",
    "\n",
    "df_calls[\"risk_free_rate\"] = risk_free_rate\n",
    "df_calls[\"risk_free_rate\"]"
   ]
  },
  {
   "cell_type": "code",
   "execution_count": 11,
   "metadata": {},
   "outputs": [
    {
     "name": "stdout",
     "output_type": "stream",
     "text": [
      "     strike_price  time_to_maturity  market_price  underlying_price  risk_free_rate\n",
      "0         85000.0          0.142115       0.17550        98721.6805         0.04543\n",
      "1         95000.0          0.142116       0.10875        98721.6805         0.04543\n",
      "2         65000.0          0.142118       0.35525        98721.6805         0.04543\n",
      "3         75000.0          0.142120       0.26050        98721.6805         0.04543\n",
      "4         45000.0          0.142117       0.55175        98721.6805         0.04543\n",
      "..            ...               ...           ...               ...             ...\n",
      "371      112000.0          0.007962       0.00040        98721.6805         0.04543\n",
      "372      102000.0          0.007961       0.00800        98721.6805         0.04543\n",
      "373      114000.0          0.007965       0.00025        98721.6805         0.04543\n",
      "374      104000.0          0.007961       0.00430        98721.6805         0.04543\n",
      "375      108000.0          0.007961       0.00115        98721.6805         0.04543\n",
      "\n",
      "[376 rows x 5 columns]\n"
     ]
    }
   ],
   "source": [
    "# Selecting relevant columns\n",
    "calibration_data = df_calls[['strike_price', 'time_to_maturity', 'market_price', 'underlying_price', 'risk_free_rate']]\n",
    "\n",
    "print(calibration_data)"
   ]
  },
  {
   "cell_type": "code",
   "execution_count": null,
   "metadata": {},
   "outputs": [],
   "source": []
  }
 ],
 "metadata": {
  "kernelspec": {
   "display_name": "coin_api",
   "language": "python",
   "name": "python3"
  },
  "language_info": {
   "codemirror_mode": {
    "name": "ipython",
    "version": 3
   },
   "file_extension": ".py",
   "mimetype": "text/x-python",
   "name": "python",
   "nbconvert_exporter": "python",
   "pygments_lexer": "ipython3",
   "version": "3.12.2"
  }
 },
 "nbformat": 4,
 "nbformat_minor": 2
}
